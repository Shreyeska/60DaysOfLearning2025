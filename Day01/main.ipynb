{
 "cells": [
  {
   "cell_type": "code",
   "execution_count": 29,
   "id": "12300813",
   "metadata": {},
   "outputs": [],
   "source": [
    "import numpy as np"
   ]
  },
  {
   "cell_type": "markdown",
   "id": "ad53a11d",
   "metadata": {},
   "source": [
    "\n",
    "# Section 1: Array Creation\n"
   ]
  },
  {
   "cell_type": "code",
   "execution_count": 30,
   "id": "21daf22f",
   "metadata": {},
   "outputs": [
    {
     "name": "stdout",
     "output_type": "stream",
     "text": [
      "1D Array:\n",
      " [1 2 3 4 5]\n"
     ]
    }
   ],
   "source": [
    "# 1D array\n",
    "a = np.array([1, 2, 3, 4, 5])\n",
    "print(\"1D Array:\\n\", a)"
   ]
  },
  {
   "cell_type": "code",
   "execution_count": 31,
   "id": "24bc2dee",
   "metadata": {},
   "outputs": [
    {
     "name": "stdout",
     "output_type": "stream",
     "text": [
      "\n",
      "2D Array:\n",
      " [[1 2 3]\n",
      " [4 5 6]]\n"
     ]
    }
   ],
   "source": [
    "# 2D array\n",
    "b = np.array([[1, 2, 3], [4, 5, 6]])\n",
    "print(\"\\n2D Array:\\n\", b)"
   ]
  },
  {
   "cell_type": "code",
   "execution_count": 32,
   "id": "303d73c9",
   "metadata": {},
   "outputs": [
    {
     "name": "stdout",
     "output_type": "stream",
     "text": [
      "\n",
      "Array of Zeros:\n",
      " [[0. 0. 0.]\n",
      " [0. 0. 0.]]\n",
      "\n",
      "Array of Ones:\n",
      " [[1. 1.]\n",
      " [1. 1.]\n",
      " [1. 1.]]\n"
     ]
    }
   ],
   "source": [
    "# Array of zeros and ones\n",
    "zeros = np.zeros((2, 3))\n",
    "ones = np.ones((3, 2))\n",
    "print(\"\\nArray of Zeros:\\n\", zeros)\n",
    "print(\"\\nArray of Ones:\\n\", ones)"
   ]
  },
  {
   "cell_type": "code",
   "execution_count": 33,
   "id": "17e83c18",
   "metadata": {},
   "outputs": [
    {
     "name": "stdout",
     "output_type": "stream",
     "text": [
      "\n",
      "Random Uniform Array:\n",
      " [[0.59855399 0.08713615 0.99732449]\n",
      " [0.77034754 0.46285485 0.66093256]]\n",
      "\n",
      "Random Integer Array:\n",
      " [[34 83 63]\n",
      " [92 61 42]\n",
      " [16 55 40]]\n"
     ]
    }
   ],
   "source": [
    "# Random arrays\n",
    "rand_uniform = np.random.rand(2, 3)\n",
    "rand_int = np.random.randint(1, 100, size=(3, 3))\n",
    "print(\"\\nRandom Uniform Array:\\n\", rand_uniform)\n",
    "print(\"\\nRandom Integer Array:\\n\", rand_int)"
   ]
  },
  {
   "cell_type": "markdown",
   "id": "488a1430",
   "metadata": {},
   "source": [
    "# ---------------------------\n",
    "# Section 2: Indexing and Slicing\n",
    "# ---------------------------"
   ]
  },
  {
   "cell_type": "code",
   "execution_count": 34,
   "id": "53d90560",
   "metadata": {},
   "outputs": [
    {
     "name": "stdout",
     "output_type": "stream",
     "text": [
      "\n",
      "Element at index 2 in a: 3\n",
      "Slice of a (1:4): [2 3 4]\n",
      "Last 2 elements of a: [4 5]\n"
     ]
    }
   ],
   "source": [
    "\n",
    "print(\"\\nElement at index 2 in a:\", a[2])\n",
    "print(\"Slice of a (1:4):\", a[1:4])\n",
    "print(\"Last 2 elements of a:\", a[-2:])"
   ]
  },
  {
   "cell_type": "code",
   "execution_count": 35,
   "id": "657bd981",
   "metadata": {},
   "outputs": [
    {
     "name": "stdout",
     "output_type": "stream",
     "text": [
      "\n",
      "Element at (1,2) in b: 6\n",
      "Second row of b: [4 5 6]\n",
      "First column of b: [1 4]\n"
     ]
    }
   ],
   "source": [
    "\n",
    "# 2D indexing\n",
    "print(\"\\nElement at (1,2) in b:\", b[1, 2])\n",
    "print(\"Second row of b:\", b[1])\n",
    "print(\"First column of b:\", b[:, 0])"
   ]
  },
  {
   "cell_type": "markdown",
   "id": "449b4aca",
   "metadata": {},
   "source": [
    "# ---------------------------\n",
    "# Section 3: Array Operations\n",
    "# ---------------------------"
   ]
  },
  {
   "cell_type": "code",
   "execution_count": 36,
   "id": "7b067835",
   "metadata": {},
   "outputs": [
    {
     "name": "stdout",
     "output_type": "stream",
     "text": [
      "\n",
      "Addition: [11 22 33]\n",
      "Subtraction: [ 9 18 27]\n",
      "Multiplication: [10 40 90]\n",
      "Division: [10. 10. 10.]\n"
     ]
    }
   ],
   "source": [
    "x = np.array([10, 20, 30])\n",
    "y = np.array([1, 2, 3])\n",
    "print(\"\\nAddition:\", x + y)\n",
    "print(\"Subtraction:\", x - y)\n",
    "print(\"Multiplication:\", x * y)\n",
    "print(\"Division:\", x / y)"
   ]
  },
  {
   "cell_type": "code",
   "execution_count": 37,
   "id": "61e89c4b",
   "metadata": {},
   "outputs": [
    {
     "name": "stdout",
     "output_type": "stream",
     "text": [
      "\n",
      "Mean of x: 20.0\n",
      "Median of x: 20.0\n",
      "Standard Deviation of x: 8.16496580927726\n"
     ]
    }
   ],
   "source": [
    "# Statistics\n",
    "print(\"\\nMean of x:\", np.mean(x))\n",
    "print(\"Median of x:\", np.median(x))\n",
    "print(\"Standard Deviation of x:\", np.std(x))"
   ]
  },
  {
   "cell_type": "markdown",
   "id": "6d4404ad",
   "metadata": {},
   "source": [
    "# ---------------------------\n",
    "# Section 4: Reshaping Arrays\n",
    "# ---------------------------"
   ]
  },
  {
   "cell_type": "code",
   "execution_count": 38,
   "id": "acf8b885",
   "metadata": {},
   "outputs": [
    {
     "name": "stdout",
     "output_type": "stream",
     "text": [
      "\n",
      "Original c:\n",
      " [[1 2]\n",
      " [3 4]\n",
      " [5 6]]\n",
      "Reshaped c:\n",
      " [[1 2 3]\n",
      " [4 5 6]]\n",
      "Flattened c: [1 2 3 4 5 6]\n"
     ]
    }
   ],
   "source": [
    "c = np.array([[1, 2], [3, 4], [5, 6]])\n",
    "print(\"\\nOriginal c:\\n\", c)\n",
    "c_reshaped = c.reshape((2, 3))\n",
    "print(\"Reshaped c:\\n\", c_reshaped)\n",
    "\n",
    "# Flatten\n",
    "flattened = c.flatten()\n",
    "print(\"Flattened c:\", flattened)"
   ]
  },
  {
   "cell_type": "markdown",
   "id": "20d9c300",
   "metadata": {},
   "source": [
    "# ---------------------------\n",
    "# Section 5: Broadcasting\n",
    "# ---------------------------"
   ]
  },
  {
   "cell_type": "code",
   "execution_count": 39,
   "id": "2c09d863",
   "metadata": {},
   "outputs": [
    {
     "name": "stdout",
     "output_type": "stream",
     "text": [
      "\n",
      "Broadcasting Example:\n",
      " [[11 21 31]\n",
      " [12 22 32]\n",
      " [13 23 33]]\n"
     ]
    }
   ],
   "source": [
    "d = np.array([[1], [2], [3]])\n",
    "e = np.array([10, 20, 30])\n",
    "print(\"\\nBroadcasting Example:\\n\", d + e)\n"
   ]
  },
  {
   "cell_type": "markdown",
   "id": "5f47db79",
   "metadata": {},
   "source": [
    "\n",
    "# ---------------------------\n",
    "# Section 6: Boolean Indexing\n",
    "# ---------------------------"
   ]
  },
  {
   "cell_type": "code",
   "execution_count": 40,
   "id": "53a8dd9f",
   "metadata": {},
   "outputs": [
    {
     "name": "stdout",
     "output_type": "stream",
     "text": [
      "\n",
      "Mask: [False False False  True  True]\n",
      "Filtered Values: [20 25]\n"
     ]
    }
   ],
   "source": [
    "arr = np.array([5, 10, 15, 20, 25])\n",
    "mask = arr > 15\n",
    "print(\"\\nMask:\", mask)\n",
    "print(\"Filtered Values:\", arr[mask])\n"
   ]
  },
  {
   "cell_type": "markdown",
   "id": "2949d3a5",
   "metadata": {},
   "source": [
    "# ---------------------------\n",
    "# Section 7: Mini ML Preprocessing - Normalization\n",
    "# ---------------------------"
   ]
  },
  {
   "cell_type": "code",
   "execution_count": 41,
   "id": "dff348ef",
   "metadata": {},
   "outputs": [
    {
     "name": "stdout",
     "output_type": "stream",
     "text": [
      "\n",
      "Dataset:\n",
      " [[160  55  22]\n",
      " [170  65  25]\n",
      " [180  75  28]\n",
      " [175  70  30]]\n",
      "\n",
      "Mean: [171.25  66.25  26.25]\n",
      "Standard Deviation: [7.39509973 7.39509973 3.03108891]\n",
      "\n",
      "Normalized Data:\n",
      " [[-1.52127766 -1.52127766 -1.40213637]\n",
      " [-0.16903085 -0.16903085 -0.41239305]\n",
      " [ 1.18321596  1.18321596  0.57735027]\n",
      " [ 0.50709255  0.50709255  1.23717915]]\n"
     ]
    }
   ],
   "source": [
    "# Fake dataset: [Height, Weight, Age]\n",
    "data = np.array([\n",
    "    [160, 55, 22],\n",
    "    [170, 65, 25],\n",
    "    [180, 75, 28],\n",
    "    [175, 70, 30]\n",
    "])\n",
    "print(\"\\nDataset:\\n\", data)\n",
    "\n",
    "# Basic statistics\n",
    "mean = np.mean(data, axis=0)\n",
    "std = np.std(data, axis=0)\n",
    "\n",
    "print(\"\\nMean:\", mean)\n",
    "print(\"Standard Deviation:\", std)\n",
    "\n",
    "# Normalize the dataset (Z-score)\n",
    "data_normalized = (data - mean) / std\n",
    "print(\"\\nNormalized Data:\\n\", data_normalized)"
   ]
  },
  {
   "cell_type": "markdown",
   "id": "2630baee",
   "metadata": {},
   "source": [
    "# ---------------------------\n",
    "# Section 8: Teaser - Features & Target (for ML)\n",
    "# ---------------------------\n"
   ]
  },
  {
   "cell_type": "code",
   "execution_count": 42,
   "id": "19ad34b0",
   "metadata": {},
   "outputs": [
    {
     "name": "stdout",
     "output_type": "stream",
     "text": [
      "\n",
      "Features (Normalized):\n",
      " [[-1.52127766 -1.52127766 -1.40213637]\n",
      " [-0.16903085 -0.16903085 -0.41239305]\n",
      " [ 1.18321596  1.18321596  0.57735027]\n",
      " [ 0.50709255  0.50709255  1.23717915]]\n",
      "Target:\n",
      " [0 0 1 1]\n",
      "\n",
      "Distance between person 0 and 2: 4.306615698609548\n"
     ]
    }
   ],
   "source": [
    "# Assume 0 = Non-athlete, 1 = Athlete\n",
    "labels = np.array([0, 0, 1, 1])\n",
    "features = data_normalized\n",
    "target = labels\n",
    "\n",
    "print(\"\\nFeatures (Normalized):\\n\", features)\n",
    "print(\"Target:\\n\", target)\n",
    "\n",
    "# Preview: Calculate Euclidean distance between two samples\n",
    "from numpy.linalg import norm\n",
    "dist = norm(features[0] - features[2])\n",
    "print(\"\\nDistance between person 0 and 2:\", dist)\n"
   ]
  }
 ],
 "metadata": {
  "kernelspec": {
   "display_name": "Python 3",
   "language": "python",
   "name": "python3"
  },
  "language_info": {
   "codemirror_mode": {
    "name": "ipython",
    "version": 3
   },
   "file_extension": ".py",
   "mimetype": "text/x-python",
   "name": "python",
   "nbconvert_exporter": "python",
   "pygments_lexer": "ipython3",
   "version": "3.12.4"
  }
 },
 "nbformat": 4,
 "nbformat_minor": 5
}
