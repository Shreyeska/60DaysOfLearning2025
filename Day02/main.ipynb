{
 "cells": [
  {
   "cell_type": "code",
   "execution_count": 1,
   "id": "367a37f9",
   "metadata": {},
   "outputs": [],
   "source": [
    "import numpy as np\n",
    "import pandas as pd"
   ]
  },
  {
   "cell_type": "markdown",
   "id": "5209304e",
   "metadata": {},
   "source": [
    "# Part 1: Advanced NumPy"
   ]
  },
  {
   "cell_type": "code",
   "execution_count": 2,
   "id": "f7fdfb9e",
   "metadata": {},
   "outputs": [
    {
     "name": "stdout",
     "output_type": "stream",
     "text": [
      "Array:\n",
      " [[1 2 3]\n",
      " [4 5 6]]\n",
      "Sum along axis 0 (columns): [5 7 9]\n",
      "Sum along axis 1 (rows): [ 6 15]\n",
      "\n",
      "Vertical Stack:\n",
      " [[1 2 3]\n",
      " [4 5 6]]\n",
      "Horizontal Stack:\n",
      " [1 2 3 4 5 6]\n",
      "\n",
      "Split Data: [array([10, 20]), array([30, 40]), array([50, 60])]\n",
      "\n",
      "Matrix A:\n",
      " [[1 2]\n",
      " [3 4]]\n",
      "Matrix B:\n",
      " [[5 6]\n",
      " [7 8]]\n",
      "Matrix Multiplication:\n",
      " [[19 22]\n",
      " [43 50]]\n"
     ]
    }
   ],
   "source": [
    "# Axis operations\n",
    "arr = np.array([[1, 2, 3], [4, 5, 6]])\n",
    "print(\"Array:\\n\", arr)\n",
    "print(\"Sum along axis 0 (columns):\", np.sum(arr, axis=0))\n",
    "print(\"Sum along axis 1 (rows):\", np.sum(arr, axis=1))\n",
    "\n",
    "# Stacking\n",
    "a = np.array([1, 2, 3])\n",
    "b = np.array([4, 5, 6])\n",
    "v_stack = np.vstack((a, b))\n",
    "h_stack = np.hstack((a, b))\n",
    "print(\"\\nVertical Stack:\\n\", v_stack)\n",
    "print(\"Horizontal Stack:\\n\", h_stack)\n",
    "\n",
    "# Splitting arrays\n",
    "data = np.array([10, 20, 30, 40, 50, 60])\n",
    "split_data = np.split(data, 3)\n",
    "print(\"\\nSplit Data:\", split_data)\n",
    "\n",
    "# Matrix multiplication\n",
    "A = np.array([[1, 2], [3, 4]])\n",
    "B = np.array([[5, 6], [7, 8]])\n",
    "print(\"\\nMatrix A:\\n\", A)\n",
    "print(\"Matrix B:\\n\", B)\n",
    "print(\"Matrix Multiplication:\\n\", np.dot(A, B))\n"
   ]
  },
  {
   "cell_type": "markdown",
   "id": "02cd6595",
   "metadata": {},
   "source": [
    "# Part 2: Intro to Pandas\n"
   ]
  },
  {
   "cell_type": "code",
   "execution_count": 4,
   "id": "396c7899",
   "metadata": {},
   "outputs": [
    {
     "name": "stdout",
     "output_type": "stream",
     "text": [
      "\n",
      "Series:\n",
      " a    10\n",
      "b    20\n",
      "c    30\n",
      "dtype: int64\n",
      "\n",
      "DataFrame:\n",
      "       Name  Age  Score\n",
      "0    Alice   25     85\n",
      "1      Bob   30     90\n",
      "2  Charlie   35     95\n",
      "\n",
      "Names: 0      Alice\n",
      "1        Bob\n",
      "2    Charlie\n",
      "Name: Name, dtype: object\n",
      "Row 1:\n",
      " Name     Bob\n",
      "Age       30\n",
      "Score     90\n",
      "Name: 1, dtype: object\n"
     ]
    }
   ],
   "source": [
    "# Creating Series and DataFrame\n",
    "s = pd.Series([10, 20, 30], index=['a', 'b', 'c'])\n",
    "print(\"\\nSeries:\\n\", s)\n",
    "\n",
    "df = pd.DataFrame({\n",
    "    'Name': ['Alice', 'Bob', 'Charlie'],\n",
    "    'Age': [25, 30, 35],\n",
    "    'Score': [85, 90, 95]\n",
    "})\n",
    "print(\"\\nDataFrame:\\n\", df)\n",
    "\n",
    "# Accessing columns and rows\n",
    "print(\"\\nNames:\", df['Name'])\n",
    "print(\"Row 1:\\n\", df.iloc[1])\n",
    "\n"
   ]
  },
  {
   "cell_type": "markdown",
   "id": "37d4fdaa",
   "metadata": {},
   "source": [
    "# Part 3: Simple Data Analysis\n"
   ]
  },
  {
   "cell_type": "code",
   "execution_count": 5,
   "id": "5a7fb260",
   "metadata": {},
   "outputs": [
    {
     "name": "stdout",
     "output_type": "stream",
     "text": [
      "\n",
      "Average Age: 30.0\n",
      "Max Score: 95\n",
      "\n",
      "Updated DataFrame:\n",
      "       Name  Age  Score  Passed\n",
      "0    Alice   25     85    True\n",
      "1      Bob   30     90    True\n",
      "2  Charlie   35     95    True\n"
     ]
    }
   ],
   "source": [
    "# Basic statistics\n",
    "print(\"\\nAverage Age:\", df['Age'].mean())\n",
    "print(\"Max Score:\", df['Score'].max())\n",
    "\n",
    "# Adding a new column\n",
    "df['Passed'] = df['Score'] > 80\n",
    "print(\"\\nUpdated DataFrame:\\n\", df)"
   ]
  },
  {
   "cell_type": "markdown",
   "id": "8b043a4e",
   "metadata": {},
   "source": [
    "# Part 4: Mini ML Prep\n"
   ]
  },
  {
   "cell_type": "code",
   "execution_count": 6,
   "id": "21092a87",
   "metadata": {},
   "outputs": [
    {
     "name": "stdout",
     "output_type": "stream",
     "text": [
      "\n",
      "With Missing Value:\n",
      "       Name  Age  Score  Passed\n",
      "0    Alice   25   85.0    True\n",
      "1      Bob   30    NaN    True\n",
      "2  Charlie   35   95.0    True\n",
      "\n",
      "Filled Missing Value:\n",
      "       Name  Age  Score  Passed\n",
      "0    Alice   25   85.0    True\n",
      "1      Bob   30   90.0    True\n",
      "2  Charlie   35   95.0    True\n",
      "\n",
      "Features:\n",
      "    Age  Score\n",
      "0   25   85.0\n",
      "1   30   90.0\n",
      "2   35   95.0\n",
      "Labels:\n",
      " 0    True\n",
      "1    True\n",
      "2    True\n",
      "Name: Passed, dtype: bool\n"
     ]
    }
   ],
   "source": [
    "# Simulate missing values\n",
    "df.loc[1, 'Score'] = None\n",
    "print(\"\\nWith Missing Value:\\n\", df)\n",
    "\n",
    "# Handling missing values\n",
    "df['Score'] = df['Score'].fillna(df['Score'].mean())\n",
    "print(\"\\nFilled Missing Value:\\n\", df)\n",
    "\n",
    "# Feature and label split\n",
    "X = df[['Age', 'Score']]\n",
    "y = df['Passed']\n",
    "print(\"\\nFeatures:\\n\", X)\n",
    "print(\"Labels:\\n\", y)"
   ]
  }
 ],
 "metadata": {
  "kernelspec": {
   "display_name": "Python 3",
   "language": "python",
   "name": "python3"
  },
  "language_info": {
   "codemirror_mode": {
    "name": "ipython",
    "version": 3
   },
   "file_extension": ".py",
   "mimetype": "text/x-python",
   "name": "python",
   "nbconvert_exporter": "python",
   "pygments_lexer": "ipython3",
   "version": "3.12.4"
  }
 },
 "nbformat": 4,
 "nbformat_minor": 5
}
