{
 "cells": [
  {
   "cell_type": "code",
   "execution_count": 1,
   "id": "72be958b",
   "metadata": {},
   "outputs": [],
   "source": [
    "import pandas as pd\n",
    "import numpy as np"
   ]
  },
  {
   "cell_type": "markdown",
   "id": "ebaeb086",
   "metadata": {},
   "source": [
    "# Part 1: Reading and Exploring Data\n"
   ]
  },
  {
   "cell_type": "code",
   "execution_count": 2,
   "id": "e4d25ba3",
   "metadata": {},
   "outputs": [
    {
     "name": "stdout",
     "output_type": "stream",
     "text": [
      "Initial Data:\n",
      "       Name   Age Gender  Score        City\n",
      "0    Alice  25.0      F   85.0   Kathmandu\n",
      "1      Bob  30.0      M   90.0     Pokhara\n",
      "2  Charlie   NaN      M   88.0    Lalitpur\n",
      "3    David  35.0      M    NaN  Biratnagar\n",
      "4      Eva  40.0      F   95.0      Butwal\n"
     ]
    }
   ],
   "source": [
    "# Simulate CSV reading\n",
    "data = {\n",
    "    'Name': ['Alice', 'Bob', 'Charlie', 'David', 'Eva'],\n",
    "    'Age': [25, 30, np.nan, 35, 40],\n",
    "    'Gender': ['F', 'M', 'M', 'M', 'F'],\n",
    "    'Score': [85, 90, 88, np.nan, 95],\n",
    "    'City': ['Kathmandu', 'Pokhara', 'Lalitpur', 'Biratnagar', 'Butwal']\n",
    "}\n",
    "\n",
    "df = pd.DataFrame(data)\n",
    "print(\"Initial Data:\\n\", df)"
   ]
  },
  {
   "cell_type": "markdown",
   "id": "d22130ae",
   "metadata": {},
   "source": [
    "# Part 2: Cleaning Data\n"
   ]
  },
  {
   "cell_type": "code",
   "execution_count": 3,
   "id": "be772f3c",
   "metadata": {},
   "outputs": [
    {
     "name": "stdout",
     "output_type": "stream",
     "text": [
      "\n",
      "Cleaned Data:\n",
      "       Name  Age Gender  TestScore        City\n",
      "0    Alice   25      F       85.0   Kathmandu\n",
      "1      Bob   30      M       90.0     Pokhara\n",
      "2  Charlie   32      M       88.0    Lalitpur\n",
      "3    David   35      M       89.0  Biratnagar\n",
      "4      Eva   40      F       95.0      Butwal\n"
     ]
    }
   ],
   "source": [
    "\n",
    "# Fill missing Age with mean\n",
    "df['Age'] = df['Age'].fillna(df['Age'].mean())\n",
    "\n",
    "# Fill missing Score with median\n",
    "df['Score'] = df['Score'].fillna(df['Score'].median())\n",
    "\n",
    "# Rename columns\n",
    "df.rename(columns={'Score': 'TestScore'}, inplace=True)\n",
    "\n",
    "# Change dtype\n",
    "df['Age'] = df['Age'].astype(int)\n",
    "\n",
    "print(\"\\nCleaned Data:\\n\", df)"
   ]
  },
  {
   "cell_type": "markdown",
   "id": "57efce03",
   "metadata": {},
   "source": [
    "# Part 3: Filtering and Sorting\n"
   ]
  },
  {
   "cell_type": "code",
   "execution_count": 4,
   "id": "9cbdbed5",
   "metadata": {},
   "outputs": [
    {
     "name": "stdout",
     "output_type": "stream",
     "text": [
      "\n",
      "Age > 30:\n",
      "       Name  Age Gender  TestScore        City\n",
      "2  Charlie   32      M       88.0    Lalitpur\n",
      "3    David   35      M       89.0  Biratnagar\n",
      "4      Eva   40      F       95.0      Butwal\n",
      "\n",
      "Sorted by TestScore:\n",
      "       Name  Age Gender  TestScore        City\n",
      "4      Eva   40      F       95.0      Butwal\n",
      "1      Bob   30      M       90.0     Pokhara\n",
      "3    David   35      M       89.0  Biratnagar\n",
      "2  Charlie   32      M       88.0    Lalitpur\n",
      "0    Alice   25      F       85.0   Kathmandu\n"
     ]
    }
   ],
   "source": [
    "# Filter rows with Age > 30\n",
    "filtered_df = df[df['Age'] > 30]\n",
    "print(\"\\nAge > 30:\\n\", filtered_df)\n",
    "\n",
    "# Sort by TestScore\n",
    "sorted_df = df.sort_values(by='TestScore', ascending=False)\n",
    "print(\"\\nSorted by TestScore:\\n\", sorted_df)"
   ]
  },
  {
   "cell_type": "markdown",
   "id": "d9968a77",
   "metadata": {},
   "source": [
    "# Part 4: Grouping and Aggregation\n"
   ]
  },
  {
   "cell_type": "code",
   "execution_count": 5,
   "id": "0e44b62c",
   "metadata": {},
   "outputs": [
    {
     "name": "stdout",
     "output_type": "stream",
     "text": [
      "\n",
      "Group by Gender:\n",
      "               Age  TestScore\n",
      "Gender                      \n",
      "F       32.500000       90.0\n",
      "M       32.333333       89.0\n"
     ]
    }
   ],
   "source": [
    "grouped = df.groupby('Gender').agg({\n",
    "    'Age': 'mean',\n",
    "    'TestScore': 'mean'\n",
    "})\n",
    "print(\"\\nGroup by Gender:\\n\", grouped)"
   ]
  },
  {
   "cell_type": "markdown",
   "id": "619a56eb",
   "metadata": {},
   "source": [
    "# Part 5: ML Prep – One-hot Encoding & Normalization\n"
   ]
  },
  {
   "cell_type": "code",
   "execution_count": 6,
   "id": "e551bd97",
   "metadata": {},
   "outputs": [
    {
     "name": "stdout",
     "output_type": "stream",
     "text": [
      "\n",
      "One-hot Encoded:\n",
      "       Name  Age  TestScore        City  Gender_F  Gender_M\n",
      "0    Alice   25       85.0   Kathmandu      True     False\n",
      "1      Bob   30       90.0     Pokhara     False      True\n",
      "2  Charlie   32       88.0    Lalitpur     False      True\n",
      "3    David   35       89.0  Biratnagar     False      True\n",
      "4      Eva   40       95.0      Butwal      True     False\n",
      "\n",
      "With Normalized Score:\n",
      "       Name  Age  TestScore        City  Gender_F  Gender_M  TestScore_Norm\n",
      "0    Alice   25       85.0   Kathmandu      True     False             0.0\n",
      "1      Bob   30       90.0     Pokhara     False      True             0.5\n",
      "2  Charlie   32       88.0    Lalitpur     False      True             0.3\n",
      "3    David   35       89.0  Biratnagar     False      True             0.4\n",
      "4      Eva   40       95.0      Butwal      True     False             1.0\n"
     ]
    }
   ],
   "source": [
    "\n",
    "# One-hot encoding for Gender\n",
    "encoded_df = pd.get_dummies(df, columns=['Gender'])\n",
    "print(\"\\nOne-hot Encoded:\\n\", encoded_df)\n",
    "\n",
    "# Normalize TestScore (Min-Max)\n",
    "encoded_df['TestScore_Norm'] = (encoded_df['TestScore'] - encoded_df['TestScore'].min()) / \\\n",
    "                               (encoded_df['TestScore'].max() - encoded_df['TestScore'].min())\n",
    "print(\"\\nWith Normalized Score:\\n\", encoded_df)"
   ]
  }
 ],
 "metadata": {
  "kernelspec": {
   "display_name": "Python 3",
   "language": "python",
   "name": "python3"
  },
  "language_info": {
   "codemirror_mode": {
    "name": "ipython",
    "version": 3
   },
   "file_extension": ".py",
   "mimetype": "text/x-python",
   "name": "python",
   "nbconvert_exporter": "python",
   "pygments_lexer": "ipython3",
   "version": "3.12.4"
  }
 },
 "nbformat": 4,
 "nbformat_minor": 5
}
